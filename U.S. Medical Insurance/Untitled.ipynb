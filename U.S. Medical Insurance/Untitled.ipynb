{
 "cells": [
  {
   "cell_type": "code",
   "execution_count": 22,
   "metadata": {},
   "outputs": [
    {
     "name": "stderr",
     "output_type": "stream",
     "text": [
      "c:\\users\\tushar\\anaconda3\\envs\\conda_pip_env\\lib\\site-packages\\ipykernel_launcher.py:9: SettingWithCopyWarning: \n",
      "A value is trying to be set on a copy of a slice from a DataFrame\n",
      "\n",
      "See the caveats in the documentation: http://pandas.pydata.org/pandas-docs/stable/indexing.html#indexing-view-versus-copy\n",
      "  if __name__ == '__main__':\n",
      "c:\\users\\tushar\\anaconda3\\envs\\conda_pip_env\\lib\\site-packages\\ipykernel_launcher.py:11: SettingWithCopyWarning: \n",
      "A value is trying to be set on a copy of a slice from a DataFrame\n",
      "\n",
      "See the caveats in the documentation: http://pandas.pydata.org/pandas-docs/stable/indexing.html#indexing-view-versus-copy\n",
      "  # This is added back by InteractiveShellApp.init_path()\n",
      "c:\\users\\tushar\\anaconda3\\envs\\conda_pip_env\\lib\\site-packages\\ipykernel_launcher.py:14: SettingWithCopyWarning: \n",
      "A value is trying to be set on a copy of a slice from a DataFrame\n",
      "\n",
      "See the caveats in the documentation: http://pandas.pydata.org/pandas-docs/stable/indexing.html#indexing-view-versus-copy\n",
      "  \n",
      "c:\\users\\tushar\\anaconda3\\envs\\conda_pip_env\\lib\\site-packages\\ipykernel_launcher.py:16: SettingWithCopyWarning: \n",
      "A value is trying to be set on a copy of a slice from a DataFrame\n",
      "\n",
      "See the caveats in the documentation: http://pandas.pydata.org/pandas-docs/stable/indexing.html#indexing-view-versus-copy\n",
      "  app.launch_new_instance()\n",
      "c:\\users\\tushar\\anaconda3\\envs\\conda_pip_env\\lib\\site-packages\\ipykernel_launcher.py:25: SettingWithCopyWarning: \n",
      "A value is trying to be set on a copy of a slice from a DataFrame\n",
      "\n",
      "See the caveats in the documentation: http://pandas.pydata.org/pandas-docs/stable/indexing.html#indexing-view-versus-copy\n",
      "c:\\users\\tushar\\anaconda3\\envs\\conda_pip_env\\lib\\site-packages\\ipykernel_launcher.py:23: SettingWithCopyWarning: \n",
      "A value is trying to be set on a copy of a slice from a DataFrame\n",
      "\n",
      "See the caveats in the documentation: http://pandas.pydata.org/pandas-docs/stable/indexing.html#indexing-view-versus-copy\n",
      "c:\\users\\tushar\\anaconda3\\envs\\conda_pip_env\\lib\\site-packages\\ipykernel_launcher.py:21: SettingWithCopyWarning: \n",
      "A value is trying to be set on a copy of a slice from a DataFrame\n",
      "\n",
      "See the caveats in the documentation: http://pandas.pydata.org/pandas-docs/stable/indexing.html#indexing-view-versus-copy\n",
      "c:\\users\\tushar\\anaconda3\\envs\\conda_pip_env\\lib\\site-packages\\ipykernel_launcher.py:19: SettingWithCopyWarning: \n",
      "A value is trying to be set on a copy of a slice from a DataFrame\n",
      "\n",
      "See the caveats in the documentation: http://pandas.pydata.org/pandas-docs/stable/indexing.html#indexing-view-versus-copy\n"
     ]
    },
    {
     "name": "stdout",
     "output_type": "stream",
     "text": [
      "      age sex     bmi  children smoker region\n",
      "0      19   0  27.900         0      1      4\n",
      "1      18   1  33.770         1      0      3\n",
      "2      28   1  33.000         3      0      3\n",
      "3      33   1  22.705         0      0      2\n",
      "4      32   1  28.880         0      0      2\n",
      "5      31   0  25.740         0      0      3\n",
      "6      46   0  33.440         1      0      3\n",
      "7      37   0  27.740         3      0      2\n",
      "8      37   1  29.830         2      0      1\n",
      "9      60   0  25.840         0      0      2\n",
      "10     25   1  26.220         0      0      1\n",
      "11     62   0  26.290         0      1      3\n",
      "12     23   1  34.400         0      0      4\n",
      "13     56   0  39.820         0      0      3\n",
      "14     27   1  42.130         0      1      3\n",
      "15     19   1  24.600         1      0      4\n",
      "16     52   0  30.780         1      0      1\n",
      "17     23   1  23.845         0      0      1\n",
      "18     56   1  40.300         0      0      4\n",
      "19     30   1  35.300         0      1      4\n",
      "20     60   0  36.005         0      0      1\n",
      "21     30   0  32.400         1      0      4\n",
      "22     18   1  34.100         0      0      3\n",
      "23     34   0  31.920         1      1      1\n",
      "24     37   1  28.025         2      0      2\n",
      "25     59   0  27.720         3      0      3\n",
      "26     63   0  23.085         0      0      1\n",
      "27     55   0  32.775         2      0      2\n",
      "28     23   1  17.385         1      0      2\n",
      "29     31   1  36.300         2      1      4\n",
      "...   ...  ..     ...       ...    ...    ...\n",
      "1308   25   0  30.200         0      1      4\n",
      "1309   41   1  32.200         2      0      4\n",
      "1310   42   1  26.315         1      0      2\n",
      "1311   33   0  26.695         0      0      2\n",
      "1312   34   1  42.900         1      0      4\n",
      "1313   19   0  34.700         2      1      4\n",
      "1314   30   0  23.655         3      1      2\n",
      "1315   18   1  28.310         1      0      1\n",
      "1316   19   0  20.600         0      0      4\n",
      "1317   18   1  53.130         0      0      3\n",
      "1318   35   1  39.710         4      0      1\n",
      "1319   39   0  26.315         2      0      2\n",
      "1320   31   1  31.065         3      0      2\n",
      "1321   62   1  26.695         0      1      1\n",
      "1322   62   1  38.830         0      0      3\n",
      "1323   42   0  40.370         2      1      3\n",
      "1324   31   1  25.935         1      0      2\n",
      "1325   61   1  33.535         0      0      1\n",
      "1326   42   0  32.870         0      0      1\n",
      "1327   51   1  30.030         1      0      3\n",
      "1328   23   0  24.225         2      0      1\n",
      "1329   52   1  38.600         2      0      4\n",
      "1330   57   0  25.740         2      0      3\n",
      "1331   23   0  33.400         0      0      4\n",
      "1332   52   0  44.700         3      0      4\n",
      "1333   50   1  30.970         3      0      2\n",
      "1334   18   0  31.920         0      0      1\n",
      "1335   18   0  36.850         0      0      3\n",
      "1336   21   0  25.800         0      0      4\n",
      "1337   61   0  29.070         0      1      2\n",
      "\n",
      "[1338 rows x 6 columns]\n"
     ]
    }
   ],
   "source": [
    "import pandas as pd\n",
    "from sklearn import linear_model\n",
    "\n",
    "data = pd.read_csv(r'insurance.csv')\n",
    "X = pd.DataFrame(data, columns= ['age','sex', 'bmi', 'children', 'smoker', 'region'])\n",
    "y = pd.DataFrame(data, columns = ['charges'])\n",
    "for i in range(len(X['sex'])):\n",
    "    if X['sex'][i] == 'female':\n",
    "        X['sex'][i] = 0\n",
    "    else:\n",
    "        X['sex'][i] = 1\n",
    "for i in range(len(X['smoker'])):\n",
    "    if X['smoker'][i] == 'yes':\n",
    "        X['smoker'][i] = 1\n",
    "    else:\n",
    "        X['smoker'][i] = 0\n",
    "for i in range(len(X['region'])):\n",
    "    if X['region'][i] == 'northeast':\n",
    "        X['region'][i] = 1\n",
    "    elif X['region'][i] == 'northwest':\n",
    "        X['region'][i] = 2\n",
    "    elif X['region'][i] == 'southeast':\n",
    "        X['region'][i] = 3\n",
    "    else:\n",
    "        X['region'][i] = 4\n",
    "\n",
    "print(X)\n"
   ]
  },
  {
   "cell_type": "code",
   "execution_count": 27,
   "metadata": {},
   "outputs": [
    {
     "name": "stdout",
     "output_type": "stream",
     "text": [
      "[[25530.49731748]\n",
      " [ 4964.26459624]]\n"
     ]
    }
   ],
   "source": [
    "lm = linear_model.LinearRegression()\n",
    "model = lm.fit(X,y)\n",
    "X_test = [[24, 1, 23.56, 0, 1, 2],\n",
    "         [33, 0, 25.61, 1, 0, 3]]\n",
    "y_pred = lm.predict(X_test)\n",
    "print(y_pred)"
   ]
  },
  {
   "cell_type": "code",
   "execution_count": 25,
   "metadata": {},
   "outputs": [
    {
     "data": {
      "image/png": "[encoded data removed]",
      "text/plain": [
       "<Figure size 432x288 with 1 Axes>"
      ]
     },
     "metadata": {
      "needs_background": "light"
     },
     "output_type": "display_data"
    }
   ],
   "source": [
    "import matplotlib.pyplot as plt\n",
    "plt.scatter(X['age'], y, color = \"red\")\n",
    "plt.plot(X['age'], lm.predict(X), color = \"green\")\n",
    "plt.title(\"Predicting charges of health insurance\")\n",
    "plt.xlabel(\"labels\")\n",
    "plt.ylabel(\"Charges\")\n",
    "plt.show()"
   ]
  },
  {
   "cell_type": "code",
   "execution_count": null,
   "metadata": {},
   "outputs": [],
   "source": []
  }
 ],
 "metadata": {
  "kernelspec": {
   "display_name": "Python 3",
   "language": "python",
   "name": "python3"
  },
  "language_info": {
   "codemirror_mode": {
    "name": "ipython",
    "version": 3
   },
   "file_extension": ".py",
   "mimetype": "text/x-python",
   "name": "python",
   "nbconvert_exporter": "python",
   "pygments_lexer": "ipython3",
   "version": "3.7.4"
  }
 },
 "nbformat": 4,
 "nbformat_minor": 4
}
